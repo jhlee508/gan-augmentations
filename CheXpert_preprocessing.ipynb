{
  "nbformat": 4,
  "nbformat_minor": 0,
  "metadata": {
    "colab": {
      "name": "CheXpert_preprocessing.ipynb",
      "provenance": [],
      "collapsed_sections": [],
      "toc_visible": true
    },
    "kernelspec": {
      "name": "python3",
      "display_name": "Python 3"
    },
    "language_info": {
      "name": "python"
    }
  },
  "cells": [
    {
      "cell_type": "code",
      "metadata": {
        "id": "bgOXzeJ2kMbf"
      },
      "source": [
        "import csv"
      ],
      "execution_count": 5,
      "outputs": []
    },
    {
      "cell_type": "code",
      "metadata": {
        "id": "87bxddU1om1L"
      },
      "source": [
        "csv_path = '/content/train_1p.csv'"
      ],
      "execution_count": 26,
      "outputs": []
    },
    {
      "cell_type": "code",
      "metadata": {
        "id": "teXUw__Bot5E"
      },
      "source": [
        "no_finding_label = [1, 0, 0, 0, 0, 0, 0, 0, 0, 0, 0, 0, 0, 0] # no finding\n",
        "lung_lesion_label = [0, 0, 0, 0, 1, 0, 0, 0, 0, 0, 0, 0, 0, 0]\n",
        "pleural_other_label = [0, 0, 0, 0, 0, 0, 0, 0, 0, 0, 0, 1, 0, 0]\n",
        "fracture_label = [0, 0, 0, 0, 0, 0, 0, 0, 0, 0, 0, 0, 1, 0]\n",
        "\n",
        "lung_lesion = 4 # lung lesion\n",
        "pleural_other = 11 # pleural other\n",
        "fracture = 12 # fracture"
      ],
      "execution_count": 40,
      "outputs": []
    },
    {
      "cell_type": "code",
      "metadata": {
        "id": "WB9BS1UyqSSa"
      },
      "source": [
        "all_image_names = []\n",
        "all_labels = []\n",
        "\n",
        "no_finding_image_names = []\n",
        "no_finding_labels = []\n",
        "\n",
        "lung_lesion_image_names = []\n",
        "lung_lesion_labels = []\n",
        "\n",
        "pleural_other_image_names = []\n",
        "pleural_other_labels = []\n",
        "\n",
        "fracture_image_names = []\n",
        "fracture_labels = []\n",
        "\n",
        "lung_lesion_only_image_names = []\n",
        "lung_lesion_only_labels = []\n",
        "\n",
        "pleural_other_only_image_names = []\n",
        "pleural_other_only_labels = []\n",
        "\n",
        "fracture_only_image_names = []\n",
        "fracture_only_labels = []"
      ],
      "execution_count": 41,
      "outputs": []
    },
    {
      "cell_type": "code",
      "metadata": {
        "id": "oNIIW3D_jrPz"
      },
      "source": [
        "with open(csv_path, \"r\") as f:\n",
        "    csvReader = csv.reader(f)\n",
        "    next(csvReader, None)\n",
        "    k=0\n",
        "    for line in csvReader:\n",
        "        k+=1\n",
        "        image_name= line[0]\n",
        "        label = line[5:]\n",
        "        \n",
        "        for i in range(14):\n",
        "            if label[i]:\n",
        "                a = float(label[i])\n",
        "                if a == 1:\n",
        "                    label[i] = 1\n",
        "                elif a == -1:\n",
        "                    if policy == \"ones\":\n",
        "                        label[i] = 1\n",
        "                    elif policy == \"zeroes\":\n",
        "                        label[i] = 0\n",
        "                    else:\n",
        "                        label[i] = 0\n",
        "                else:\n",
        "                    label[i] = 0\n",
        "            else:\n",
        "                label[i] = 0\n",
        "\n",
        "        \n",
        "        all_image_names.append('../' + image_name)\n",
        "        all_labels.append(label)\n",
        "\n",
        "        if label == no_finding_label: # no findings\n",
        "            no_finding_image_names.append('../' + image_name)\n",
        "            no_finding_labels.append(label)\n",
        "\n",
        "        if label[lung_lesion] == 1: # lung lesion\n",
        "            lung_lesion_image_names.append('../' + image_name)\n",
        "            lung_lesion_labels.append(label)\n",
        "\n",
        "        if label[pleural_other] == 1: # pleural other\n",
        "            pleural_other_image_names.append('../' + image_name)\n",
        "            pleural_other_labels.append(label)\n",
        "\n",
        "        if label[fracture] == 1: # fracture\n",
        "            fracture_image_names.append('../' + image_name)\n",
        "            fracture_labels.append(label)\n",
        "        \n",
        "        if label == lung_lesion_label: # lung lesion only\n",
        "            lung_lesion_only_image_names.append('../' + image_name)\n",
        "            lung_lesion_only_labels.append(label)\n",
        "\n",
        "        if label == pleural_other_label: # pleural other only\n",
        "            pleural_other_only_image_names.append('../' + image_name)\n",
        "            pleural_other_only_labels.append(label)\n",
        "\n",
        "        if label == fracture_label: # fracture only\n",
        "            fracture_only_image_names.append('../' + image_name)\n",
        "            fracture_only_labels.append(label)"
      ],
      "execution_count": 42,
      "outputs": []
    },
    {
      "cell_type": "code",
      "metadata": {
        "colab": {
          "base_uri": "https://localhost:8080/"
        },
        "id": "-1VoyHKckJ96",
        "outputId": "aad06b46-0651-4bbf-e83e-6646ec5d7538"
      },
      "source": [
        "print(len(all_image_names))\n",
        "\n",
        "print(len(no_finding_image_names))\n",
        "\n",
        "print(len(lung_lesion_image_names))\n",
        "print(len(pleural_other_image_names))\n",
        "print(len(fracture_image_names))\n",
        "\n",
        "print(len(lung_lesion_only_image_names))\n",
        "print(len(pleural_other_only_image_names))\n",
        "print(len(fracture_only_image_names))"
      ],
      "execution_count": 43,
      "outputs": [
        {
          "output_type": "stream",
          "name": "stdout",
          "text": [
            "2012\n",
            "117\n",
            "109\n",
            "68\n",
            "110\n",
            "9\n",
            "0\n",
            "29\n"
          ]
        }
      ]
    }
  ]
}