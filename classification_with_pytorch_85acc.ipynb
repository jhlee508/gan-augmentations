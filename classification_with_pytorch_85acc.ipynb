{
  "nbformat": 4,
  "nbformat_minor": 0,
  "metadata": {
    "kernelspec": {
      "name": "python3",
      "display_name": "Python 3",
      "language": "python"
    },
    "language_info": {
      "name": "python",
      "version": "3.7.6",
      "mimetype": "text/x-python",
      "codemirror_mode": {
        "name": "ipython",
        "version": 3
      },
      "pygments_lexer": "ipython3",
      "nbconvert_exporter": "python",
      "file_extension": ".py"
    },
    "colab": {
      "name": "classification-with-pytorch-85acc.ipynb",
      "provenance": [],
      "collapsed_sections": [],
      "machine_shape": "hm",
      "include_colab_link": true
    },
    "accelerator": "GPU"
  },
  "cells": [
    {
      "cell_type": "markdown",
      "metadata": {
        "id": "view-in-github",
        "colab_type": "text"
      },
      "source": [
        "<a href=\"https://colab.research.google.com/github/jhlee508/gan-augmentations/blob/master/classification_with_pytorch_85acc.ipynb\" target=\"_parent\"><img src=\"https://colab.research.google.com/assets/colab-badge.svg\" alt=\"Open In Colab\"/></a>"
      ]
    },
    {
      "cell_type": "markdown",
      "metadata": {
        "id": "UCGrxiTqtX05"
      },
      "source": [
        "## Classification using the CNN pyTorch"
      ]
    },
    {
      "cell_type": "markdown",
      "metadata": {
        "id": "DFyABQg_vmaA"
      },
      "source": [
        "**Mounting Drive**"
      ]
    },
    {
      "cell_type": "code",
      "metadata": {
        "colab": {
          "base_uri": "https://localhost:8080/"
        },
        "id": "yrAx5_qImqY2",
        "outputId": "66f84575-4da0-4347-fd2f-8fda5c228580"
      },
      "source": [
        "from google.colab import drive\n",
        "drive.mount('/content/drive')"
      ],
      "execution_count": null,
      "outputs": [
        {
          "output_type": "stream",
          "name": "stdout",
          "text": [
            "Mounted at /content/drive\n"
          ]
        }
      ]
    },
    {
      "cell_type": "markdown",
      "metadata": {
        "id": "EJqo-Kanvt0Y"
      },
      "source": [
        "**Seed Setting**"
      ]
    },
    {
      "cell_type": "code",
      "metadata": {
        "id": "cVXXQ-48vuE4"
      },
      "source": [
        "import torch\n",
        "import numpy as np\n",
        "import random\n",
        "import os\n",
        "\n",
        "def my_seed_everywhere(seed: int = 42):\n",
        "    random.seed(seed) # random\n",
        "    np.random.seed(seed) # numpy\n",
        "    os.environ[\"PYTHONHASHSEED\"] = str(seed) # os\n",
        "    # pytorch\n",
        "    torch.manual_seed(seed)\n",
        "    torch.cuda.manual_seed(seed) \n",
        "    torch.backends.cudnn.deterministic = True \n",
        "    torch.backends.cudnn.benchmark = False \n",
        "\n",
        "my_seed = 42\n",
        "my_seed_everywhere(my_seed)"
      ],
      "execution_count": null,
      "outputs": []
    },
    {
      "cell_type": "markdown",
      "metadata": {
        "_uuid": "8f2839f25d086af736a60e9eeb907d3b93b6e0e5",
        "_cell_guid": "b1076dfc-b9ad-4769-8c92-a6c4dae69d19",
        "trusted": true,
        "id": "7yOX21nTtX09"
      },
      "source": [
        "Importing libraries"
      ]
    },
    {
      "cell_type": "code",
      "metadata": {
        "_uuid": "d629ff2d2480ee46fbb7e2d37f6b5fab8052498a",
        "_cell_guid": "79c7e3d0-c299-4dcb-8224-4455121ee9b0",
        "trusted": true,
        "id": "dlHcB8rttX0-"
      },
      "source": [
        "import matplotlib.pyplot as plt\n",
        "import numpy as np\n",
        "import PIL\n",
        "import torch\n",
        "import torch.nn as nn\n",
        "import torch.optim as optim\n",
        "import torchvision\n",
        "import torchvision.datasets as dset\n",
        "from torch.utils.data.sampler import SubsetRandomSampler\n",
        "import torch.nn.functional as F\n",
        "import os\n",
        "from torchvision import transforms\n",
        "from sklearn.metrics import roc_curve, auc\n",
        "from glob import glob"
      ],
      "execution_count": null,
      "outputs": []
    },
    {
      "cell_type": "markdown",
      "metadata": {
        "id": "BPjKclpXtX0_"
      },
      "source": [
        "Make the transformer that includes RandomRotation, ToTensor and Normalize steps. "
      ]
    },
    {
      "cell_type": "code",
      "metadata": {
        "trusted": true,
        "id": "orKoC1HEtX0_"
      },
      "source": [
        "data_transforms = transforms.Compose([\n",
        "            #transforms.RandomRotation(90, resample=PIL.Image.BILINEAR),\n",
        "            #transforms.RandomApply((transforms.RandomHorizontalFlip(.5), \n",
        "            #                        transforms.RandomVerticalFlip(.5)), p=0.5),\n",
        "            transforms.ToTensor(), \n",
        "            transforms.Normalize([0.5, 0.5, 0.5], [0.5, 0.5, 0.5])\n",
        "])"
      ],
      "execution_count": null,
      "outputs": []
    },
    {
      "cell_type": "markdown",
      "metadata": {
        "id": "vi7QwRsBtX1A"
      },
      "source": [
        "Using pyTorch datasets read the train/test samples and split train set to train and validation sets. "
      ]
    },
    {
      "cell_type": "code",
      "metadata": {
        "colab": {
          "base_uri": "https://localhost:8080/"
        },
        "id": "auA6C0lY3URr",
        "outputId": "126cb994-3d6f-4b9f-f763-b97034ad1abe"
      },
      "source": [
        "from glob import glob\n",
        "\n",
        "train_mal = glob('/content/drive/Shareddrives/SKKU-URP-GAN/all/jh/real_200/train/malignant/mal/*.jpg')\n",
        "train_ben = glob('/content/drive/Shareddrives/SKKU-URP-GAN/all/jh/real_200/train/benign/ben/*.jpg')\n",
        "\n",
        "print(len(train_mal))\n",
        "print(len(train_ben))"
      ],
      "execution_count": null,
      "outputs": [
        {
          "output_type": "stream",
          "name": "stdout",
          "text": [
            "200\n",
            "1440\n"
          ]
        }
      ]
    },
    {
      "cell_type": "code",
      "metadata": {
        "trusted": true,
        "id": "acUMJ-fCtX1A"
      },
      "source": [
        "trainset = dset.ImageFolder('/content/drive/Shareddrives/SKKU-URP-GAN/all/jh/real_200/train', \n",
        "                            transform=data_transforms)\n",
        "testset = dset.ImageFolder('/content/drive/Shareddrives/SKKU-URP-GAN/all/test', \n",
        "                           transform=data_transforms)\n",
        "\n",
        "\n",
        "data_size = len(trainset.samples)\n",
        "validation_split = .2\n",
        "split = int(np.floor(validation_split * data_size))\n",
        "indices = list(range(data_size))\n",
        "np.random.shuffle(indices)\n",
        "batch_size = 8\n",
        "train_indices, val_indices = indices[split:], indices[:split]\n",
        "\n",
        "\n",
        "train_sampler = SubsetRandomSampler(train_indices)\n",
        "val_sampler = SubsetRandomSampler(val_indices)\n",
        "\n",
        "\n",
        "train_loader = torch.utils.data.DataLoader(trainset, batch_size=batch_size, \n",
        "                                           sampler=train_sampler)\n",
        "val_loader = torch.utils.data.DataLoader(trainset, batch_size=batch_size,\n",
        "                                         sampler=val_sampler)\n",
        "\n",
        "\n",
        "test_loader = torch.utils.data.DataLoader(testset, batch_size=batch_size)"
      ],
      "execution_count": null,
      "outputs": []
    },
    {
      "cell_type": "markdown",
      "metadata": {
        "id": "nf_P5TSotX1B"
      },
      "source": [
        "Make Flattener object"
      ]
    },
    {
      "cell_type": "code",
      "metadata": {
        "trusted": true,
        "id": "9unHAmvGtX1B"
      },
      "source": [
        "class Flattener(nn.Module):\n",
        "    def forward(self, x):\n",
        "        batch_size, *_ = x.shape\n",
        "        return x.view(batch_size, -1)"
      ],
      "execution_count": null,
      "outputs": []
    },
    {
      "cell_type": "markdown",
      "metadata": {
        "id": "V4rcAguttX1C"
      },
      "source": [
        "Function for training model, computing accuracy and plotting train/val curves."
      ]
    },
    {
      "cell_type": "code",
      "metadata": {
        "trusted": true,
        "colab": {
          "base_uri": "https://localhost:8080/"
        },
        "id": "kGr5iecStX1C",
        "outputId": "50563b4c-a2dd-4050-bba9-0630024a8ead"
      },
      "source": [
        "USE_GPU = True\n",
        "\n",
        "if USE_GPU and torch.cuda.is_available():\n",
        "    print('using device: cuda')\n",
        "else:\n",
        "    print('using device: cpu')"
      ],
      "execution_count": null,
      "outputs": [
        {
          "output_type": "stream",
          "name": "stdout",
          "text": [
            "using device: cuda\n"
          ]
        }
      ]
    },
    {
      "cell_type": "code",
      "metadata": {
        "trusted": true,
        "id": "aXVurlhztX1D"
      },
      "source": [
        "def train_model(model, train_loader, val_loader, loss, optimizer, num_epochs):    \n",
        "    loss_history = []\n",
        "    train_history = []\n",
        "    val_history = []\n",
        "    \n",
        "\n",
        "    for epoch in range(num_epochs):\n",
        "        model.train() # Enter train mode\n",
        "        \n",
        "        loss_accum = 0\n",
        "        correct_samples = 0\n",
        "        total_samples = 0\n",
        "\n",
        "        for i_step, (x, y) in enumerate(train_loader):\n",
        "            \n",
        "            x_gpu = x.to(device)\n",
        "            y_gpu = y.to(device)\n",
        "            prediction = model(x_gpu)    \n",
        "            loss_value = loss(prediction, y_gpu)\n",
        "            optimizer.zero_grad()\n",
        "            loss_value.backward()\n",
        "            optimizer.step()\n",
        "            \n",
        "            _, indices = torch.max(prediction, 1)\n",
        "            correct_samples += torch.sum(indices == y_gpu)\n",
        "            total_samples += y.shape[0]\n",
        "            loss_accum += loss_value\n",
        "\n",
        "        ave_loss = loss_accum / i_step\n",
        "        train_accuracy = float(correct_samples) / total_samples\n",
        "        val_accuracy = compute_accuracy(model, val_loader)\n",
        "        \n",
        "        loss_history.append(float(ave_loss))\n",
        "        train_history.append(train_accuracy)\n",
        "        val_history.append(val_accuracy)\n",
        "        \n",
        "        print(f\"Average loss: {ave_loss}, \\\n",
        "            Train accuracy: {train_accuracy}, \\\n",
        "            Val accuracy: {val_accuracy}\")\n",
        "        \n",
        "    return loss_history, train_history, val_history\n",
        "        \n",
        "def compute_accuracy(model, loader, auc=False):\n",
        "    model.eval() \n",
        "    correct_samples = 0\n",
        "    total_samples = 0\n",
        "    y_true, y_pred = [], []\n",
        "    for (x, y) in loader:\n",
        "      \n",
        "        x_gpu = x.to(device)\n",
        "        y_gpu = y.to(device)\n",
        "        prediction = model(x_gpu)    \n",
        "        indices = torch.argmax(prediction, 1)\n",
        "        fpr, tpr, _ = roc_curve(y_gpu.cpu().detach().numpy(), indices.cpu().detach().numpy())\n",
        "\n",
        "        correct_samples += torch.sum(indices == y_gpu)\n",
        "        total_samples += y_gpu.shape[0]\n",
        "        accuracy = float(correct_samples) / total_samples\n",
        "        torch.cuda.get_device_name(0)\n",
        "        if auc:\n",
        "            y_true.extend(y_gpu.cpu().detach().numpy())\n",
        "            y_pred.extend(indices.cpu().detach().numpy())\n",
        "    if auc:\n",
        "        return accuracy, y_true, y_pred\n",
        "    else: \n",
        "        return accuracy\n",
        "    \n",
        "    \n",
        "\n",
        "    return accuracy, y_true, y_pred\n",
        "\n",
        "def loss_accuracy_plot(loss_history, train_history, val_history):\n",
        "    plt.figure(figsize=(10, 9))\n",
        "    plt.subplot(311)\n",
        "    # plt.ylim(bottom=0)\n",
        "    plt.title(\"Loss\")\n",
        "    plt.plot(loss_history)\n",
        "    plt.subplot(312)\n",
        "    plt.ylim((.5, 1))\n",
        "    plt.title(\"Train/validation accuracy\")\n",
        "    plt.plot(train_history, label=\"train\")\n",
        "    plt.plot(val_history, label=\"validation\")\n",
        "\n",
        "    plt.legend();"
      ],
      "execution_count": null,
      "outputs": []
    },
    {
      "cell_type": "markdown",
      "metadata": {
        "id": "FI1bAiVmtX1E"
      },
      "source": [
        "Creating the model, defining loss and optimizer for training procedure. "
      ]
    },
    {
      "cell_type": "code",
      "metadata": {
        "trusted": true,
        "colab": {
          "base_uri": "https://localhost:8080/"
        },
        "id": "Wk9DNUwltX1E",
        "outputId": "590b1232-969a-4e91-cc84-38c66f9f54cb"
      },
      "source": [
        "device = torch.device('cuda')\n",
        "# torch.set_num_threads(16)\n",
        "print(torch.cuda.get_device_name(0))\n",
        "\n",
        "nn_model = nn.Sequential(\n",
        "            nn.Conv2d(3, 64, 3, padding=1),\n",
        "            nn.BatchNorm2d(64),\n",
        "            nn.ReLU(inplace=True),\n",
        "            nn.MaxPool2d(4),\n",
        "            nn.Conv2d(64, 64, 3, padding=1),\n",
        "            nn.ReLU(inplace=True),\n",
        "            nn.MaxPool2d(24),    \n",
        "            Flattener(),\n",
        "            nn.Linear(64*2*2, 2),\n",
        "          )\n",
        "\n",
        "device = torch.device(\"cuda\" if torch.cuda.is_available else \"cpu\")\n",
        "nn_model.type(torch.cuda.FloatTensor)\n",
        "\n",
        "nn_model.to(device)\n",
        "\n",
        "loss = nn.CrossEntropyLoss().type(torch.cuda.FloatTensor)\n",
        "\n",
        "# optimizer = optim.SGD(nn_model.parameters(), lr=1e-3, weight_decay=1e-4)\n",
        "optimizer = optim.Adam(nn_model.parameters(), lr=0.001, \n",
        "                       betas=(0.9, 0.999), eps=1e-08, \n",
        "                       weight_decay=0.0001, amsgrad=False)"
      ],
      "execution_count": null,
      "outputs": [
        {
          "output_type": "stream",
          "name": "stdout",
          "text": [
            "Tesla P100-PCIE-16GB\n"
          ]
        }
      ]
    },
    {
      "cell_type": "code",
      "metadata": {
        "id": "9xnHBFRuhw5X"
      },
      "source": [
        "my_seed = 42\n",
        "my_seed_everywhere(my_seed)"
      ],
      "execution_count": null,
      "outputs": []
    },
    {
      "cell_type": "markdown",
      "metadata": {
        "id": "yi59uMmStX1F"
      },
      "source": [
        "Curves, accuracy"
      ]
    },
    {
      "cell_type": "code",
      "metadata": {
        "trusted": true,
        "colab": {
          "base_uri": "https://localhost:8080/",
          "height": 1000
        },
        "id": "ltWnT_JStX1F",
        "outputId": "308c1a13-f8dd-4693-b1a9-7650193e53d9"
      },
      "source": [
        "loss_history, train_history, val_history = train_model(nn_model, \n",
        "                                                       train_loader, \n",
        "                                                       val_loader, \n",
        "                                                       loss, \n",
        "                                                       optimizer, 30)\n",
        "\n",
        "loss_accuracy_plot(loss_history, train_history, val_history)\n",
        "\n",
        "print('Finished!')\n",
        "\n",
        "test_accuracy, y_true, y_pred = compute_accuracy(nn_model, test_loader, auc=True)\n",
        "\n",
        "fpr, tpr, _ = roc_curve(y_true, y_pred)\n",
        "auc_rate = auc(fpr, tpr)\n",
        "\n",
        "\n",
        "print(f'Final accuracy on the test set is: {test_accuracy}; auc is: {auc_rate}')"
      ],
      "execution_count": null,
      "outputs": [
        {
          "output_type": "stream",
          "name": "stderr",
          "text": [
            "/usr/local/lib/python3.7/dist-packages/sklearn/metrics/_ranking.py:808: UndefinedMetricWarning: No positive samples in y_true, true positive value should be meaningless\n",
            "  UndefinedMetricWarning)\n"
          ]
        },
        {
          "output_type": "stream",
          "name": "stdout",
          "text": [
            "Average loss: 0.33336031436920166,             Train accuracy: 0.8711890243902439,             Val accuracy: 0.8871951219512195\n",
            "Average loss: 0.25844359397888184,             Train accuracy: 0.8894817073170732,             Val accuracy: 0.9054878048780488\n",
            "Average loss: 0.23822195827960968,             Train accuracy: 0.899390243902439,             Val accuracy: 0.9115853658536586\n",
            "Average loss: 0.20983363687992096,             Train accuracy: 0.9085365853658537,             Val accuracy: 0.9085365853658537\n",
            "Average loss: 0.1959579437971115,             Train accuracy: 0.9108231707317073,             Val accuracy: 0.8963414634146342\n",
            "Average loss: 0.16412973403930664,             Train accuracy: 0.9352134146341463,             Val accuracy: 0.9024390243902439\n",
            "Average loss: 0.15496058762073517,             Train accuracy: 0.9352134146341463,             Val accuracy: 0.899390243902439\n",
            "Average loss: 0.14820699393749237,             Train accuracy: 0.9367378048780488,             Val accuracy: 0.9176829268292683\n",
            "Average loss: 0.13628241419792175,             Train accuracy: 0.9382621951219512,             Val accuracy: 0.9176829268292683\n",
            "Average loss: 0.12581245601177216,             Train accuracy: 0.948170731707317,             Val accuracy: 0.9176829268292683\n",
            "Average loss: 0.10237356275320053,             Train accuracy: 0.961890243902439,             Val accuracy: 0.9146341463414634\n",
            "Average loss: 0.10394840687513351,             Train accuracy: 0.9535060975609756,             Val accuracy: 0.899390243902439\n",
            "Average loss: 0.09457024931907654,             Train accuracy: 0.961890243902439,             Val accuracy: 0.8932926829268293\n",
            "Average loss: 0.08356408029794693,             Train accuracy: 0.9641768292682927,             Val accuracy: 0.9085365853658537\n",
            "Average loss: 0.08201828598976135,             Train accuracy: 0.961890243902439,             Val accuracy: 0.9146341463414634\n",
            "Average loss: 0.06300739198923111,             Train accuracy: 0.9748475609756098,             Val accuracy: 0.9054878048780488\n",
            "Average loss: 0.06255139410495758,             Train accuracy: 0.9771341463414634,             Val accuracy: 0.899390243902439\n",
            "Average loss: 0.0681149959564209,             Train accuracy: 0.9740853658536586,             Val accuracy: 0.899390243902439\n",
            "Average loss: 0.057046644389629364,             Train accuracy: 0.9763719512195121,             Val accuracy: 0.899390243902439\n",
            "Average loss: 0.0479772686958313,             Train accuracy: 0.9855182926829268,             Val accuracy: 0.9024390243902439\n",
            "Average loss: 0.042460035532712936,             Train accuracy: 0.9870426829268293,             Val accuracy: 0.9146341463414634\n",
            "Average loss: 0.048048172146081924,             Train accuracy: 0.9809451219512195,             Val accuracy: 0.8810975609756098\n",
            "Average loss: 0.04270131513476372,             Train accuracy: 0.9847560975609756,             Val accuracy: 0.9054878048780488\n",
            "Average loss: 0.03913190960884094,             Train accuracy: 0.9870426829268293,             Val accuracy: 0.899390243902439\n",
            "Average loss: 0.05494888126850128,             Train accuracy: 0.9778963414634146,             Val accuracy: 0.8932926829268293\n",
            "Average loss: 0.04624129459261894,             Train accuracy: 0.9839939024390244,             Val accuracy: 0.9054878048780488\n",
            "Average loss: 0.07674103230237961,             Train accuracy: 0.9649390243902439,             Val accuracy: 0.8902439024390244\n",
            "Average loss: 0.03219969943165779,             Train accuracy: 0.9870426829268293,             Val accuracy: 0.8963414634146342\n",
            "Average loss: 0.027832088991999626,             Train accuracy: 0.9908536585365854,             Val accuracy: 0.9024390243902439\n",
            "Average loss: 0.03350691497325897,             Train accuracy: 0.989329268292683,             Val accuracy: 0.9207317073170732\n",
            "Finished!\n"
          ]
        },
        {
          "output_type": "stream",
          "name": "stderr",
          "text": [
            "/usr/local/lib/python3.7/dist-packages/sklearn/metrics/_ranking.py:800: UndefinedMetricWarning: No negative samples in y_true, false positive value should be meaningless\n",
            "  UndefinedMetricWarning)\n"
          ]
        },
        {
          "output_type": "stream",
          "name": "stdout",
          "text": [
            "Final accuracy on the test set is: 0.6287878787878788; auc is: 0.5930555555555556\n"
          ]
        },
        {
          "output_type": "display_data",
          "data": {
            "image/png": "[encoded data removed]",
            "text/plain": [
              "<Figure size 720x648 with 2 Axes>"
            ]
          },
          "metadata": {
            "needs_background": "light"
          }
        }
      ]
    },
    {
      "cell_type": "markdown",
      "metadata": {
        "id": "83-LzV3St6vU"
      },
      "source": [
        "mal_200_first_epoch - Average loss: 0.2665477693080902,             Train accuracy: 0.8956851588430536,             Val accuracy: 0.9392789373814042\n",
        "\n",
        "mal_200_last_epoch - Average loss: **0.04**7655943781137466, Train accuracy: **0.98**48269321953532, Val accuracy: **0.95**06641366223909\n",
        "\n",
        "---\n",
        "---\n",
        "\n",
        "mal_100_first_epoch - Average loss: 0.16774296760559082,             Train accuracy: 0.9350710900473934,             Val accuracy: 0.9544592030360531\n",
        "\n",
        "mal_100_last_epoch - Average loss: 0.010414835065603256,             Train accuracy: 0.9957345971563981,             Val accuracy: 0.9582542694497154\n",
        "\n",
        "---\n",
        "---\n",
        "\n",
        "mal_50_first_epoch - Average loss: 0.2665477693080902,             Train accuracy: 0.8956851588430536,             Val accuracy: 0.9392789373814042\n",
        "\n",
        "mal_50_last_epoch - Average loss: 0.047655943781137466,             Train accuracy: 0.9848269321953532,             Val accuracy: 0.9506641366223909\n",
        "\n",
        "---\n",
        "---\n",
        "\n",
        "real_200_first_epoch - Average loss: 0.33336031436920166,             Train accuracy: 0.8711890243902439,             Val accuracy: 0.8871951219512195\n",
        "\n",
        "real_200_last_epoch - Average loss: 0.03350691497325897,             Train accuracy: 0.989329268292683,             Val accuracy: 0.9207317073170732"
      ]
    },
    {
      "cell_type": "code",
      "metadata": {
        "trusted": true,
        "colab": {
          "base_uri": "https://localhost:8080/"
        },
        "id": "jvVfN5fEtX1F",
        "outputId": "fa966d41-0a5c-4f4d-a8eb-4115357a5685"
      },
      "source": [
        "test_accuracy, y_true, y_pred = compute_accuracy(nn_model, test_loader, auc=True)\n",
        "\n",
        "fpr, tpr, _ = roc_curve(y_true, y_pred)\n",
        "auc_rate = auc(fpr, tpr)\n",
        "\n",
        "\n",
        "print(f'Final accuracy on the test set is: {test_accuracy}; auc is: {auc_rate}')"
      ],
      "execution_count": null,
      "outputs": [
        {
          "output_type": "stream",
          "name": "stderr",
          "text": [
            "/usr/local/lib/python3.7/dist-packages/sklearn/metrics/_ranking.py:808: UndefinedMetricWarning: No positive samples in y_true, true positive value should be meaningless\n",
            "  UndefinedMetricWarning)\n",
            "/usr/local/lib/python3.7/dist-packages/sklearn/metrics/_ranking.py:800: UndefinedMetricWarning: No negative samples in y_true, false positive value should be meaningless\n",
            "  UndefinedMetricWarning)\n"
          ]
        },
        {
          "output_type": "stream",
          "name": "stdout",
          "text": [
            "Final accuracy on the test set is: 0.6287878787878788; auc is: 0.5930555555555556\n"
          ]
        }
      ]
    },
    {
      "cell_type": "markdown",
      "metadata": {
        "id": "fM4LsJOmzzYS"
      },
      "source": [
        "mal_200 - Final accuracy on the test set is: 0.6757575757575758, auc is: 0.6483333333333333\n",
        "\n",
        "mal_100 - Final accuracy on the test set is: 0.5772727272727273, auc is: 0.535\n",
        "\n",
        "mal_100 - Final accuracy on the test set is: 0.6757575757575758; auc is: 0.6483333333333333\n",
        "\n",
        "All - \n",
        "Final accuracy on the test set is: 0.8272727272727273; auc is: 0.8322222222222223\n",
        "\n",
        "All - Final accuracy on the test set is: 0.8393939393939394; auc is: 0.8366666666666667\n",
        "\n",
        "Real_200 - Final accuracy on the test set is: 0.6287878787878788; auc is: 0.5930555555555556"
      ]
    }
  ]
}